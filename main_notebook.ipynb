{
 "cells": [
  {
   "cell_type": "code",
   "execution_count": 25,
   "id": "cf1a75b6",
   "metadata": {},
   "outputs": [
    {
     "name": "stdout",
     "output_type": "stream",
     "text": [
      "Requirement already satisfied: datasets in c:\\users\\magsihim_ai\\anaconda3\\lib\\site-packages (4.0.0)\n",
      "Requirement already satisfied: filelock in c:\\users\\magsihim_ai\\anaconda3\\lib\\site-packages (from datasets) (3.13.1)\n",
      "Requirement already satisfied: numpy>=1.17 in c:\\users\\magsihim_ai\\anaconda3\\lib\\site-packages (from datasets) (1.26.4)\n",
      "Requirement already satisfied: pyarrow>=15.0.0 in c:\\users\\magsihim_ai\\anaconda3\\lib\\site-packages (from datasets) (16.1.0)\n",
      "Requirement already satisfied: dill<0.3.9,>=0.3.0 in c:\\users\\magsihim_ai\\anaconda3\\lib\\site-packages (from datasets) (0.3.8)\n",
      "Requirement already satisfied: pandas in c:\\users\\magsihim_ai\\anaconda3\\lib\\site-packages (from datasets) (2.2.2)\n",
      "Requirement already satisfied: requests>=2.32.2 in c:\\users\\magsihim_ai\\anaconda3\\lib\\site-packages (from datasets) (2.32.3)\n",
      "Requirement already satisfied: tqdm>=4.66.3 in c:\\users\\magsihim_ai\\anaconda3\\lib\\site-packages (from datasets) (4.66.5)\n",
      "Requirement already satisfied: xxhash in c:\\users\\magsihim_ai\\anaconda3\\lib\\site-packages (from datasets) (3.5.0)\n",
      "Requirement already satisfied: multiprocess<0.70.17 in c:\\users\\magsihim_ai\\anaconda3\\lib\\site-packages (from datasets) (0.70.16)\n",
      "Requirement already satisfied: fsspec<=2025.3.0,>=2023.1.0 in c:\\users\\magsihim_ai\\anaconda3\\lib\\site-packages (from fsspec[http]<=2025.3.0,>=2023.1.0->datasets) (2024.6.1)\n",
      "Requirement already satisfied: huggingface-hub>=0.24.0 in c:\\users\\magsihim_ai\\anaconda3\\lib\\site-packages (from datasets) (0.34.4)\n",
      "Requirement already satisfied: packaging in c:\\users\\magsihim_ai\\anaconda3\\lib\\site-packages (from datasets) (24.1)\n",
      "Requirement already satisfied: pyyaml>=5.1 in c:\\users\\magsihim_ai\\anaconda3\\lib\\site-packages (from datasets) (6.0.1)\n",
      "Requirement already satisfied: aiohttp!=4.0.0a0,!=4.0.0a1 in c:\\users\\magsihim_ai\\anaconda3\\lib\\site-packages (from fsspec[http]<=2025.3.0,>=2023.1.0->datasets) (3.10.5)\n",
      "Requirement already satisfied: typing-extensions>=3.7.4.3 in c:\\users\\magsihim_ai\\anaconda3\\lib\\site-packages (from huggingface-hub>=0.24.0->datasets) (4.11.0)\n",
      "Requirement already satisfied: charset-normalizer<4,>=2 in c:\\users\\magsihim_ai\\anaconda3\\lib\\site-packages (from requests>=2.32.2->datasets) (3.3.2)\n",
      "Requirement already satisfied: idna<4,>=2.5 in c:\\users\\magsihim_ai\\anaconda3\\lib\\site-packages (from requests>=2.32.2->datasets) (3.7)\n",
      "Requirement already satisfied: urllib3<3,>=1.21.1 in c:\\users\\magsihim_ai\\anaconda3\\lib\\site-packages (from requests>=2.32.2->datasets) (2.2.3)\n",
      "Requirement already satisfied: certifi>=2017.4.17 in c:\\users\\magsihim_ai\\anaconda3\\lib\\site-packages (from requests>=2.32.2->datasets) (2025.4.26)\n",
      "Requirement already satisfied: colorama in c:\\users\\magsihim_ai\\anaconda3\\lib\\site-packages (from tqdm>=4.66.3->datasets) (0.4.6)\n",
      "Requirement already satisfied: python-dateutil>=2.8.2 in c:\\users\\magsihim_ai\\anaconda3\\lib\\site-packages (from pandas->datasets) (2.9.0.post0)\n",
      "Requirement already satisfied: pytz>=2020.1 in c:\\users\\magsihim_ai\\anaconda3\\lib\\site-packages (from pandas->datasets) (2024.1)\n",
      "Requirement already satisfied: tzdata>=2022.7 in c:\\users\\magsihim_ai\\anaconda3\\lib\\site-packages (from pandas->datasets) (2023.3)\n",
      "Requirement already satisfied: aiohappyeyeballs>=2.3.0 in c:\\users\\magsihim_ai\\anaconda3\\lib\\site-packages (from aiohttp!=4.0.0a0,!=4.0.0a1->fsspec[http]<=2025.3.0,>=2023.1.0->datasets) (2.4.0)\n",
      "Requirement already satisfied: aiosignal>=1.1.2 in c:\\users\\magsihim_ai\\anaconda3\\lib\\site-packages (from aiohttp!=4.0.0a0,!=4.0.0a1->fsspec[http]<=2025.3.0,>=2023.1.0->datasets) (1.2.0)\n",
      "Requirement already satisfied: attrs>=17.3.0 in c:\\users\\magsihim_ai\\anaconda3\\lib\\site-packages (from aiohttp!=4.0.0a0,!=4.0.0a1->fsspec[http]<=2025.3.0,>=2023.1.0->datasets) (23.1.0)\n",
      "Requirement already satisfied: frozenlist>=1.1.1 in c:\\users\\magsihim_ai\\anaconda3\\lib\\site-packages (from aiohttp!=4.0.0a0,!=4.0.0a1->fsspec[http]<=2025.3.0,>=2023.1.0->datasets) (1.4.0)\n",
      "Requirement already satisfied: multidict<7.0,>=4.5 in c:\\users\\magsihim_ai\\anaconda3\\lib\\site-packages (from aiohttp!=4.0.0a0,!=4.0.0a1->fsspec[http]<=2025.3.0,>=2023.1.0->datasets) (6.0.4)\n",
      "Requirement already satisfied: yarl<2.0,>=1.0 in c:\\users\\magsihim_ai\\anaconda3\\lib\\site-packages (from aiohttp!=4.0.0a0,!=4.0.0a1->fsspec[http]<=2025.3.0,>=2023.1.0->datasets) (1.11.0)\n",
      "Requirement already satisfied: six>=1.5 in c:\\users\\magsihim_ai\\anaconda3\\lib\\site-packages (from python-dateutil>=2.8.2->pandas->datasets) (1.16.0)\n"
     ]
    }
   ],
   "source": [
    "!pip install datasets\n",
    "\n",
    "import numpy as np\n",
    "import pandas as pd\n",
    "import seaborn as sns\n",
    "from datasets import load_dataset\n",
    "import matplotlib.pyplot as plt\n",
    "import re\n",
    "import string\n",
    "\n",
    "\n"
   ]
  },
  {
   "cell_type": "code",
   "execution_count": 5,
   "id": "4a41771e",
   "metadata": {},
   "outputs": [
    {
     "data": {
      "application/vnd.jupyter.widget-view+json": {
       "model_id": "e3652372bdb3491092b59022d72ffed1",
       "version_major": 2,
       "version_minor": 0
      },
      "text/plain": [
       "README.md: 0.00B [00:00, ?B/s]"
      ]
     },
     "metadata": {},
     "output_type": "display_data"
    },
    {
     "name": "stderr",
     "output_type": "stream",
     "text": [
      "c:\\Users\\Magsihim_AI\\anaconda3\\Lib\\site-packages\\huggingface_hub\\file_download.py:143: UserWarning: `huggingface_hub` cache-system uses symlinks by default to efficiently store duplicated files but your machine does not support them in C:\\Users\\Magsihim_AI\\.cache\\huggingface\\hub\\datasets--artem9k--ai-text-detection-pile. Caching files will still work but in a degraded version that might require more space on your disk. This warning can be disabled by setting the `HF_HUB_DISABLE_SYMLINKS_WARNING` environment variable. For more details, see https://huggingface.co/docs/huggingface_hub/how-to-cache#limitations.\n",
      "To support symlinks on Windows, you either need to activate Developer Mode or to run Python as an administrator. In order to activate developer mode, see this article: https://docs.microsoft.com/en-us/windows/apps/get-started/enable-your-device-for-development\n",
      "  warnings.warn(message)\n",
      "Xet Storage is enabled for this repo, but the 'hf_xet' package is not installed. Falling back to regular HTTP download. For better performance, install the package with: `pip install huggingface_hub[hf_xet]` or `pip install hf_xet`\n"
     ]
    },
    {
     "data": {
      "application/vnd.jupyter.widget-view+json": {
       "model_id": "604db3a32b1f403796fe1502bcbd573c",
       "version_major": 2,
       "version_minor": 0
      },
      "text/plain": [
       "(…)-00000-of-00007-bc5952582e004d67.parquet:   0%|          | 0.00/758M [00:00<?, ?B/s]"
      ]
     },
     "metadata": {},
     "output_type": "display_data"
    },
    {
     "name": "stderr",
     "output_type": "stream",
     "text": [
      "Xet Storage is enabled for this repo, but the 'hf_xet' package is not installed. Falling back to regular HTTP download. For better performance, install the package with: `pip install huggingface_hub[hf_xet]` or `pip install hf_xet`\n"
     ]
    },
    {
     "data": {
      "application/vnd.jupyter.widget-view+json": {
       "model_id": "325e124eed964a1dbfb0159007dd2c89",
       "version_major": 2,
       "version_minor": 0
      },
      "text/plain": [
       "(…)-00001-of-00007-71c80017bc45f30d.parquet:   0%|          | 0.00/318M [00:00<?, ?B/s]"
      ]
     },
     "metadata": {},
     "output_type": "display_data"
    },
    {
     "name": "stderr",
     "output_type": "stream",
     "text": [
      "Xet Storage is enabled for this repo, but the 'hf_xet' package is not installed. Falling back to regular HTTP download. For better performance, install the package with: `pip install huggingface_hub[hf_xet]` or `pip install hf_xet`\n"
     ]
    },
    {
     "data": {
      "application/vnd.jupyter.widget-view+json": {
       "model_id": "be8b37ccab0a43fdaf3fbefa3cbdf396",
       "version_major": 2,
       "version_minor": 0
      },
      "text/plain": [
       "(…)-00002-of-00007-ee2d43f396e78fbc.parquet:   0%|          | 0.00/125M [00:00<?, ?B/s]"
      ]
     },
     "metadata": {},
     "output_type": "display_data"
    },
    {
     "name": "stderr",
     "output_type": "stream",
     "text": [
      "Xet Storage is enabled for this repo, but the 'hf_xet' package is not installed. Falling back to regular HTTP download. For better performance, install the package with: `pip install huggingface_hub[hf_xet]` or `pip install hf_xet`\n"
     ]
    },
    {
     "data": {
      "application/vnd.jupyter.widget-view+json": {
       "model_id": "a2a53c5fa99f47afb0ee997820bf275f",
       "version_major": 2,
       "version_minor": 0
      },
      "text/plain": [
       "(…)-00003-of-00007-529931154b42b51d.parquet:   0%|          | 0.00/137M [00:00<?, ?B/s]"
      ]
     },
     "metadata": {},
     "output_type": "display_data"
    },
    {
     "name": "stderr",
     "output_type": "stream",
     "text": [
      "Xet Storage is enabled for this repo, but the 'hf_xet' package is not installed. Falling back to regular HTTP download. For better performance, install the package with: `pip install huggingface_hub[hf_xet]` or `pip install hf_xet`\n"
     ]
    },
    {
     "data": {
      "application/vnd.jupyter.widget-view+json": {
       "model_id": "efe3387260394f0a9a5e5a26ac7e6be0",
       "version_major": 2,
       "version_minor": 0
      },
      "text/plain": [
       "(…)-00004-of-00007-b269dc49374a2c0b.parquet:   0%|          | 0.00/137M [00:00<?, ?B/s]"
      ]
     },
     "metadata": {},
     "output_type": "display_data"
    },
    {
     "name": "stderr",
     "output_type": "stream",
     "text": [
      "Xet Storage is enabled for this repo, but the 'hf_xet' package is not installed. Falling back to regular HTTP download. For better performance, install the package with: `pip install huggingface_hub[hf_xet]` or `pip install hf_xet`\n"
     ]
    },
    {
     "data": {
      "application/vnd.jupyter.widget-view+json": {
       "model_id": "c33fbbae564c4aa2a89bae66a3c437d7",
       "version_major": 2,
       "version_minor": 0
      },
      "text/plain": [
       "(…)-00005-of-00007-3dce5e05ddbad789.parquet:   0%|          | 0.00/258M [00:00<?, ?B/s]"
      ]
     },
     "metadata": {},
     "output_type": "display_data"
    },
    {
     "name": "stderr",
     "output_type": "stream",
     "text": [
      "Xet Storage is enabled for this repo, but the 'hf_xet' package is not installed. Falling back to regular HTTP download. For better performance, install the package with: `pip install huggingface_hub[hf_xet]` or `pip install hf_xet`\n"
     ]
    },
    {
     "data": {
      "application/vnd.jupyter.widget-view+json": {
       "model_id": "22fab9773b384b859982e2f98e62d47c",
       "version_major": 2,
       "version_minor": 0
      },
      "text/plain": [
       "(…)-00006-of-00007-3d8a471ba0cf1c8d.parquet:   0%|          | 0.00/242M [00:00<?, ?B/s]"
      ]
     },
     "metadata": {},
     "output_type": "display_data"
    },
    {
     "data": {
      "application/vnd.jupyter.widget-view+json": {
       "model_id": "c4704beeba034ac882c3661c74ceb0f8",
       "version_major": 2,
       "version_minor": 0
      },
      "text/plain": [
       "Generating train split:   0%|          | 0/1392522 [00:00<?, ? examples/s]"
      ]
     },
     "metadata": {},
     "output_type": "display_data"
    },
    {
     "name": "stdout",
     "output_type": "stream",
     "text": [
      "DatasetDict({\n",
      "    train: Dataset({\n",
      "        features: ['source', 'id', 'text'],\n",
      "        num_rows: 1392522\n",
      "    })\n",
      "})\n"
     ]
    }
   ],
   "source": [
    "dataset = load_dataset(\"artem9k/ai-text-detection-pile\")\n",
    "print(dataset)\n"
   ]
  },
  {
   "cell_type": "code",
   "execution_count": 7,
   "id": "b79b980f",
   "metadata": {},
   "outputs": [
    {
     "data": {
      "text/html": [
       "<div>\n",
       "<style scoped>\n",
       "    .dataframe tbody tr th:only-of-type {\n",
       "        vertical-align: middle;\n",
       "    }\n",
       "\n",
       "    .dataframe tbody tr th {\n",
       "        vertical-align: top;\n",
       "    }\n",
       "\n",
       "    .dataframe thead th {\n",
       "        text-align: right;\n",
       "    }\n",
       "</style>\n",
       "<table border=\"1\" class=\"dataframe\">\n",
       "  <thead>\n",
       "    <tr style=\"text-align: right;\">\n",
       "      <th></th>\n",
       "      <th>source</th>\n",
       "      <th>id</th>\n",
       "      <th>text</th>\n",
       "    </tr>\n",
       "  </thead>\n",
       "  <tbody>\n",
       "    <tr>\n",
       "      <th>0</th>\n",
       "      <td>human</td>\n",
       "      <td>0</td>\n",
       "      <td>12 Years a Slave: An Analysis of the Film Essa...</td>\n",
       "    </tr>\n",
       "    <tr>\n",
       "      <th>1</th>\n",
       "      <td>human</td>\n",
       "      <td>1</td>\n",
       "      <td>20+ Social Media Post Ideas to Radically Simpl...</td>\n",
       "    </tr>\n",
       "    <tr>\n",
       "      <th>2</th>\n",
       "      <td>human</td>\n",
       "      <td>2</td>\n",
       "      <td>2022 Russian Invasion of Ukraine in Global Med...</td>\n",
       "    </tr>\n",
       "    <tr>\n",
       "      <th>3</th>\n",
       "      <td>human</td>\n",
       "      <td>3</td>\n",
       "      <td>533 U.S. 27 (2001) Kyllo v. United States: The...</td>\n",
       "    </tr>\n",
       "    <tr>\n",
       "      <th>4</th>\n",
       "      <td>human</td>\n",
       "      <td>4</td>\n",
       "      <td>A Charles Schwab Corporation Case Essay\\n\\nCha...</td>\n",
       "    </tr>\n",
       "  </tbody>\n",
       "</table>\n",
       "</div>"
      ],
      "text/plain": [
       "  source  id                                               text\n",
       "0  human   0  12 Years a Slave: An Analysis of the Film Essa...\n",
       "1  human   1  20+ Social Media Post Ideas to Radically Simpl...\n",
       "2  human   2  2022 Russian Invasion of Ukraine in Global Med...\n",
       "3  human   3  533 U.S. 27 (2001) Kyllo v. United States: The...\n",
       "4  human   4  A Charles Schwab Corporation Case Essay\\n\\nCha..."
      ]
     },
     "execution_count": 7,
     "metadata": {},
     "output_type": "execute_result"
    }
   ],
   "source": [
    "df = dataset[\"train\"].to_pandas()\n",
    "df.head()"
   ]
  },
  {
   "cell_type": "code",
   "execution_count": 9,
   "id": "735089d1",
   "metadata": {},
   "outputs": [
    {
     "name": "stdout",
     "output_type": "stream",
     "text": [
      "source    0\n",
      "id        0\n",
      "text      0\n",
      "dtype: int64\n"
     ]
    }
   ],
   "source": [
    "print(df.isnull().sum())\n"
   ]
  },
  {
   "cell_type": "code",
   "execution_count": 11,
   "id": "dec60dc2",
   "metadata": {},
   "outputs": [
    {
     "name": "stdout",
     "output_type": "stream",
     "text": [
      "source\n",
      "human    1028146\n",
      "ai        364376\n",
      "Name: count, dtype: int64\n"
     ]
    },
    {
     "data": {
      "image/png": "[encoded data removed]",
      "text/plain": [
       "<Figure size 640x480 with 1 Axes>"
      ]
     },
     "metadata": {},
     "output_type": "display_data"
    }
   ],
   "source": [
    "print(df[\"source\"].value_counts())\n",
    "df[\"source\"].value_counts().plot(kind=\"bar\")\n",
    "plt.title(\"Distribution of Human vs AI Texts\")\n",
    "plt.xlabel(\"Source\")\n",
    "plt.ylabel(\"Count\")\n",
    "plt.show()"
   ]
  },
  {
   "cell_type": "code",
   "execution_count": 12,
   "id": "41748f6d",
   "metadata": {},
   "outputs": [
    {
     "name": "stdout",
     "output_type": "stream",
     "text": [
      "source\n",
      "ai       2221.160949\n",
      "human    2466.855142\n",
      "Name: text_length, dtype: float64\n"
     ]
    }
   ],
   "source": [
    "df[\"text_length\"] = df[\"text\"].str.len()\n",
    "\n",
    "print(df.groupby(\"source\")[\"text_length\"].mean())"
   ]
  },
  {
   "cell_type": "code",
   "execution_count": 14,
   "id": "b4664c74",
   "metadata": {},
   "outputs": [
    {
     "data": {
      "image/png": "[encoded data removed]",
      "text/plain": [
       "<Figure size 800x500 with 1 Axes>"
      ]
     },
     "metadata": {},
     "output_type": "display_data"
    }
   ],
   "source": [
    "df.boxplot(column=\"text_length\", by=\"source\", figsize=(8,5))\n",
    "plt.title(\"Text Length Distribution by Source\")\n",
    "plt.suptitle(\"\")\n",
    "plt.show()"
   ]
  },
  {
   "cell_type": "code",
   "execution_count": 16,
   "id": "f3ade78d",
   "metadata": {},
   "outputs": [],
   "source": [
    "def count_sentences(text):\n",
    "    if not isinstance(text, str) or not text.strip():\n",
    "        return 0\n",
    "    # Split by ., !, ? followed by space or end of string\n",
    "    sentences = re.split(r'[.!?]+(?:\\s|$)', text.strip())\n",
    "    # Remove empty strings\n",
    "    sentences = [s for s in sentences if s]\n",
    "    return len(sentences)\n",
    "\n",
    "df[\"sentence_count\"] = df[\"text\"].apply(count_sentences)"
   ]
  },
  {
   "cell_type": "code",
   "execution_count": 17,
   "id": "095f0bc0",
   "metadata": {},
   "outputs": [
    {
     "name": "stdout",
     "output_type": "stream",
     "text": [
      "source\n",
      "ai       17.907859\n",
      "human    24.961971\n",
      "Name: sentence_count, dtype: float64\n",
      "            count       mean        std  min   25%   50%   75%     max\n",
      "source                                                                \n",
      "ai       364376.0  17.907859  14.606204  0.0   6.0  14.0  28.0   421.0\n",
      "human   1028146.0  24.961971  36.695571  0.0  11.0  15.0  25.0  3342.0\n"
     ]
    }
   ],
   "source": [
    "print(df.groupby(\"source\")[\"sentence_count\"].mean())       # average sentences\n",
    "print(df.groupby(\"source\")[\"sentence_count\"].describe())   # stats\n"
   ]
  },
  {
   "cell_type": "code",
   "execution_count": 20,
   "id": "7b1b2c36",
   "metadata": {},
   "outputs": [
    {
     "data": {
      "image/png": "[encoded data removed]",
      "text/plain": [
       "<Figure size 800x500 with 1 Axes>"
      ]
     },
     "metadata": {},
     "output_type": "display_data"
    }
   ],
   "source": [
    "df.boxplot(column=\"sentence_count\", by=\"source\", figsize=(8,5))\n",
    "plt.title(\"Sentence Count Distribution by Source\")\n",
    "plt.suptitle(\"\")\n",
    "plt.show()"
   ]
  },
  {
   "cell_type": "code",
   "execution_count": 21,
   "id": "53a2fa5a",
   "metadata": {},
   "outputs": [],
   "source": [
    "def count_words(text):\n",
    "    if not isinstance(text, str) or not text.strip():\n",
    "        return 0\n",
    "    return len(text.split())\n",
    "\n",
    "def avg_words_per_sentence(text):\n",
    "    if not isinstance(text, str) or not text.strip():\n",
    "        return 0\n",
    "    # Split into sentences\n",
    "    sentences = re.split(r'[.!?]+(?:\\s|$)', text.strip())\n",
    "    sentences = [s for s in sentences if s.strip()]\n",
    "    if not sentences:\n",
    "        return 0\n",
    "    # Count words in each sentence\n",
    "    word_counts = [len(s.split()) for s in sentences]\n",
    "    return sum(word_counts) / len(word_counts)\n",
    "\n",
    "df[\"word_count\"] = df[\"text\"].apply(count_words)\n",
    "df[\"avg_words_per_sentence\"] = df[\"text\"].apply(avg_words_per_sentence)\n"
   ]
  },
  {
   "cell_type": "code",
   "execution_count": 22,
   "id": "a9a65590",
   "metadata": {},
   "outputs": [
    {
     "name": "stdout",
     "output_type": "stream",
     "text": [
      "        word_count  avg_words_per_sentence\n",
      "source                                    \n",
      "ai      387.003307               23.392306\n",
      "human   406.335384               17.559382\n",
      "       word_count                                                             \\\n",
      "            count        mean         std  min    25%    50%    75%      max   \n",
      "source                                                                         \n",
      "ai       364376.0  387.003307  296.514355  0.0  111.0  305.0  693.0   1024.0   \n",
      "human   1028146.0  406.335384  635.398902  0.0  174.0  190.0  394.0  71543.0   \n",
      "\n",
      "       avg_words_per_sentence                                        \\\n",
      "                        count       mean        std  min        25%   \n",
      "source                                                                \n",
      "ai                   364376.0  23.392306  18.495902  0.0  17.377778   \n",
      "human               1028146.0  17.559382  14.849826  0.0  12.062500   \n",
      "\n",
      "                                      \n",
      "              50%        75%     max  \n",
      "source                                \n",
      "ai      21.538462  26.275862  1024.0  \n",
      "human   15.500000  20.090909  1392.0  \n"
     ]
    },
    {
     "data": {
      "image/png": "[encoded data removed]",
      "text/plain": [
       "<Figure size 640x480 with 1 Axes>"
      ]
     },
     "metadata": {},
     "output_type": "display_data"
    }
   ],
   "source": [
    "print(df.groupby(\"source\")[[\"word_count\", \"avg_words_per_sentence\"]].mean())\n",
    "print(df.groupby(\"source\")[[\"word_count\", \"avg_words_per_sentence\"]].describe())\n",
    "sns.histplot(data=df, x=\"word_count\", hue=\"source\", kde=True, bins=50)\n",
    "plt.title(\"Word Count Distribution by Source\")\n",
    "plt.show()"
   ]
  },
  {
   "cell_type": "code",
   "execution_count": 23,
   "id": "25ff010e",
   "metadata": {},
   "outputs": [
    {
     "data": {
      "text/html": [
       "<div>\n",
       "<style scoped>\n",
       "    .dataframe tbody tr th:only-of-type {\n",
       "        vertical-align: middle;\n",
       "    }\n",
       "\n",
       "    .dataframe tbody tr th {\n",
       "        vertical-align: top;\n",
       "    }\n",
       "\n",
       "    .dataframe thead th {\n",
       "        text-align: right;\n",
       "    }\n",
       "</style>\n",
       "<table border=\"1\" class=\"dataframe\">\n",
       "  <thead>\n",
       "    <tr style=\"text-align: right;\">\n",
       "      <th></th>\n",
       "      <th>source</th>\n",
       "      <th>id</th>\n",
       "      <th>text</th>\n",
       "      <th>text_length</th>\n",
       "      <th>sentence_count</th>\n",
       "      <th>word_count</th>\n",
       "      <th>avg_words_per_sentence</th>\n",
       "    </tr>\n",
       "  </thead>\n",
       "  <tbody>\n",
       "    <tr>\n",
       "      <th>0</th>\n",
       "      <td>human</td>\n",
       "      <td>0</td>\n",
       "      <td>12 Years a Slave: An Analysis of the Film Essa...</td>\n",
       "      <td>4315</td>\n",
       "      <td>41</td>\n",
       "      <td>692</td>\n",
       "      <td>16.878049</td>\n",
       "    </tr>\n",
       "    <tr>\n",
       "      <th>1</th>\n",
       "      <td>human</td>\n",
       "      <td>1</td>\n",
       "      <td>20+ Social Media Post Ideas to Radically Simpl...</td>\n",
       "      <td>2400</td>\n",
       "      <td>26</td>\n",
       "      <td>367</td>\n",
       "      <td>14.115385</td>\n",
       "    </tr>\n",
       "    <tr>\n",
       "      <th>2</th>\n",
       "      <td>human</td>\n",
       "      <td>2</td>\n",
       "      <td>2022 Russian Invasion of Ukraine in Global Med...</td>\n",
       "      <td>1870</td>\n",
       "      <td>12</td>\n",
       "      <td>302</td>\n",
       "      <td>25.166667</td>\n",
       "    </tr>\n",
       "    <tr>\n",
       "      <th>3</th>\n",
       "      <td>human</td>\n",
       "      <td>3</td>\n",
       "      <td>533 U.S. 27 (2001) Kyllo v. United States: The...</td>\n",
       "      <td>2413</td>\n",
       "      <td>35</td>\n",
       "      <td>384</td>\n",
       "      <td>10.971429</td>\n",
       "    </tr>\n",
       "    <tr>\n",
       "      <th>4</th>\n",
       "      <td>human</td>\n",
       "      <td>4</td>\n",
       "      <td>A Charles Schwab Corporation Case Essay\\n\\nCha...</td>\n",
       "      <td>2339</td>\n",
       "      <td>25</td>\n",
       "      <td>352</td>\n",
       "      <td>13.960000</td>\n",
       "    </tr>\n",
       "  </tbody>\n",
       "</table>\n",
       "</div>"
      ],
      "text/plain": [
       "  source  id                                               text  text_length  \\\n",
       "0  human   0  12 Years a Slave: An Analysis of the Film Essa...         4315   \n",
       "1  human   1  20+ Social Media Post Ideas to Radically Simpl...         2400   \n",
       "2  human   2  2022 Russian Invasion of Ukraine in Global Med...         1870   \n",
       "3  human   3  533 U.S. 27 (2001) Kyllo v. United States: The...         2413   \n",
       "4  human   4  A Charles Schwab Corporation Case Essay\\n\\nCha...         2339   \n",
       "\n",
       "   sentence_count  word_count  avg_words_per_sentence  \n",
       "0              41         692               16.878049  \n",
       "1              26         367               14.115385  \n",
       "2              12         302               25.166667  \n",
       "3              35         384               10.971429  \n",
       "4              25         352               13.960000  "
      ]
     },
     "execution_count": 23,
     "metadata": {},
     "output_type": "execute_result"
    }
   ],
   "source": [
    "df.head()"
   ]
  },
  {
   "cell_type": "code",
   "execution_count": 24,
   "id": "651a4e72",
   "metadata": {},
   "outputs": [
    {
     "name": "stdout",
     "output_type": "stream",
     "text": [
      "source\n",
      "human    300000\n",
      "ai       300000\n",
      "Name: count, dtype: int64\n"
     ]
    }
   ],
   "source": [
    "human_df = df[df[\"source\"] == \"human\"].sample(n=300000, random_state=42)\n",
    "ai_df    = df[df[\"source\"] == \"ai\"].sample(n=300000, random_state=42)\n",
    "\n",
    "# Combine them\n",
    "balanced_df = pd.concat([human_df, ai_df]).reset_index(drop=True)\n",
    "\n",
    "print(balanced_df[\"source\"].value_counts())"
   ]
  },
  {
   "cell_type": "code",
   "execution_count": 26,
   "id": "fbb869e7",
   "metadata": {},
   "outputs": [],
   "source": [
    "punctuations = string.punctuation  # !\"#$%&'()*+,-./:;<=>?@[\\]^_`{|}~\n",
    "\n",
    "# Count occurrences of each punctuation in every text\n",
    "for p in punctuations:\n",
    "    balanced_df[f\"count_{p}\"] = balanced_df[\"text\"].str.count(re.escape(p))"
   ]
  },
  {
   "cell_type": "code",
   "execution_count": 28,
   "id": "7ad3da89",
   "metadata": {},
   "outputs": [
    {
     "name": "stdout",
     "output_type": "stream",
     "text": [
      "              AI    Human\n",
      "count_!    96275   188951\n",
      "count_\"  2049144   520298\n",
      "count_#    21826    23569\n",
      "count_$   117155    65084\n",
      "count_%    47173    69619\n",
      "count_&    24074   139361\n",
      "count_'  2262153  2079827\n",
      "count_(   410936   789862\n",
      "count_)   425297   793721\n",
      "count_*    19702   284795\n",
      "count_+    20048    24778\n",
      "count_,  5546386  6518631\n",
      "count_-  1117269  1209751\n",
      "count_.  5896752  7956139\n",
      "count_/   193551   181592\n",
      "count_:   449305   487578\n",
      "count_;    84820   151519\n",
      "count_<    14818     9956\n",
      "count_=    36690    45153\n",
      "count_>    22284    21959\n",
      "count_?   206910   341368\n",
      "count_@    18400    13171\n",
      "count_[    68904    43493\n",
      "count_\\     4636     4239\n",
      "count_]    67547    43729\n",
      "count_^      800     6601\n",
      "count__    61784   105077\n",
      "count_`     1558   845413\n",
      "count_{     8643     7412\n",
      "count_|    13480     9867\n",
      "count_}     8302     7101\n",
      "count_~     3603     8391\n"
     ]
    }
   ],
   "source": [
    "punct_summary = balanced_df.groupby(\"source\")[[col for col in balanced_df.columns if col.startswith(\"count_\")]].sum().T\n",
    "punct_summary.columns = [\"AI\", \"Human\"] if \"ai\" in punct_summary.columns else punct_summary.columns\n",
    "print(punct_summary)"
   ]
  },
  {
   "cell_type": "code",
   "execution_count": 30,
   "id": "6dcb58ba",
   "metadata": {},
   "outputs": [
    {
     "name": "stdout",
     "output_type": "stream",
     "text": [
      "source          ai      human\n",
      "count_!   0.320917   0.629837\n",
      "count_\"   6.830480   1.734327\n",
      "count_#   0.072753   0.078563\n",
      "count_$   0.390517   0.216947\n",
      "count_%   0.157243   0.232063\n",
      "count_&   0.080247   0.464537\n",
      "count_'   7.540510   6.932757\n",
      "count_(   1.369787   2.632873\n",
      "count_)   1.417657   2.645737\n",
      "count_*   0.065673   0.949317\n",
      "count_+   0.066827   0.082593\n",
      "count_,  18.487953  21.728770\n",
      "count_-   3.724230   4.032503\n",
      "count_.  19.655840  26.520463\n",
      "count_/   0.645170   0.605307\n",
      "count_:   1.497683   1.625260\n",
      "count_;   0.282733   0.505063\n",
      "count_<   0.049393   0.033187\n",
      "count_=   0.122300   0.150510\n",
      "count_>   0.074280   0.073197\n",
      "count_?   0.689700   1.137893\n",
      "count_@   0.061333   0.043903\n",
      "count_[   0.229680   0.144977\n",
      "count_\\   0.015453   0.014130\n",
      "count_]   0.225157   0.145763\n",
      "count_^   0.002667   0.022003\n",
      "count__   0.205947   0.350257\n",
      "count_`   0.005193   2.818043\n",
      "count_{   0.028810   0.024707\n",
      "count_|   0.044933   0.032890\n",
      "count_}   0.027673   0.023670\n",
      "count_~   0.012010   0.027970\n"
     ]
    }
   ],
   "source": [
    "punct_avg = balanced_df.groupby(\"source\")[[col for col in balanced_df.columns if col.startswith(\"count_\")]].mean().T\n",
    "print(punct_avg)"
   ]
  },
  {
   "cell_type": "code",
   "execution_count": 31,
   "id": "911c5d8d",
   "metadata": {},
   "outputs": [
    {
     "data": {
      "image/png": "[encoded data removed]",
      "text/plain": [
       "<Figure size 1400x600 with 1 Axes>"
      ]
     },
     "metadata": {},
     "output_type": "display_data"
    }
   ],
   "source": [
    "punct_avg.plot(kind=\"bar\", figsize=(14,6))\n",
    "plt.title(\"Average Punctuation Usage by Source\")\n",
    "plt.ylabel(\"Average count per text\")\n",
    "plt.show()"
   ]
  },
  {
   "cell_type": "code",
   "execution_count": 33,
   "id": "45e1bfd3",
   "metadata": {},
   "outputs": [
    {
     "name": "stdout",
     "output_type": "stream",
     "text": [
      "source\n",
      "ai       64.400750\n",
      "human    76.660017\n",
      "Name: punct_total, dtype: float64\n"
     ]
    }
   ],
   "source": [
    "balanced_df[\"punct_total\"] = balanced_df[\"text\"].apply(lambda x: len(re.findall(rf\"[{re.escape(string.punctuation)}]\", str(x))))\n",
    "avg_punct = balanced_df.groupby(\"source\")[\"punct_total\"].mean()\n",
    "print(avg_punct)"
   ]
  },
  {
   "cell_type": "code",
   "execution_count": 34,
   "id": "5d799774",
   "metadata": {},
   "outputs": [
    {
     "data": {
      "text/html": [
       "<div>\n",
       "<style scoped>\n",
       "    .dataframe tbody tr th:only-of-type {\n",
       "        vertical-align: middle;\n",
       "    }\n",
       "\n",
       "    .dataframe tbody tr th {\n",
       "        vertical-align: top;\n",
       "    }\n",
       "\n",
       "    .dataframe thead th {\n",
       "        text-align: right;\n",
       "    }\n",
       "</style>\n",
       "<table border=\"1\" class=\"dataframe\">\n",
       "  <thead>\n",
       "    <tr style=\"text-align: right;\">\n",
       "      <th></th>\n",
       "      <th>source</th>\n",
       "      <th>id</th>\n",
       "      <th>text</th>\n",
       "      <th>text_length</th>\n",
       "      <th>sentence_count</th>\n",
       "      <th>word_count</th>\n",
       "      <th>avg_words_per_sentence</th>\n",
       "      <th>count_!</th>\n",
       "      <th>count_\"</th>\n",
       "      <th>count_#</th>\n",
       "      <th>...</th>\n",
       "      <th>count_]</th>\n",
       "      <th>count_^</th>\n",
       "      <th>count__</th>\n",
       "      <th>count_`</th>\n",
       "      <th>count_{</th>\n",
       "      <th>count_|</th>\n",
       "      <th>count_}</th>\n",
       "      <th>count_~</th>\n",
       "      <th>punct_total</th>\n",
       "      <th>unique_ratio</th>\n",
       "    </tr>\n",
       "  </thead>\n",
       "  <tbody>\n",
       "    <tr>\n",
       "      <th>0</th>\n",
       "      <td>human</td>\n",
       "      <td>255674</td>\n",
       "      <td>From Trailville\\n\\nUpper Des Plaines River Can...</td>\n",
       "      <td>4708</td>\n",
       "      <td>38</td>\n",
       "      <td>782</td>\n",
       "      <td>20.578947</td>\n",
       "      <td>0</td>\n",
       "      <td>2</td>\n",
       "      <td>0</td>\n",
       "      <td>...</td>\n",
       "      <td>0</td>\n",
       "      <td>0</td>\n",
       "      <td>0</td>\n",
       "      <td>0</td>\n",
       "      <td>0</td>\n",
       "      <td>0</td>\n",
       "      <td>0</td>\n",
       "      <td>0</td>\n",
       "      <td>121</td>\n",
       "      <td>0.466752</td>\n",
       "    </tr>\n",
       "    <tr>\n",
       "      <th>1</th>\n",
       "      <td>human</td>\n",
       "      <td>72144</td>\n",
       "      <td>Coca-Cola Company’s Performance Measurement Es...</td>\n",
       "      <td>2105</td>\n",
       "      <td>20</td>\n",
       "      <td>318</td>\n",
       "      <td>15.900000</td>\n",
       "      <td>0</td>\n",
       "      <td>0</td>\n",
       "      <td>0</td>\n",
       "      <td>...</td>\n",
       "      <td>0</td>\n",
       "      <td>0</td>\n",
       "      <td>0</td>\n",
       "      <td>0</td>\n",
       "      <td>0</td>\n",
       "      <td>0</td>\n",
       "      <td>0</td>\n",
       "      <td>0</td>\n",
       "      <td>41</td>\n",
       "      <td>0.591195</td>\n",
       "    </tr>\n",
       "    <tr>\n",
       "      <th>2</th>\n",
       "      <td>human</td>\n",
       "      <td>829552</td>\n",
       "      <td>I can't stop it, you won't like it, you should...</td>\n",
       "      <td>1000</td>\n",
       "      <td>13</td>\n",
       "      <td>184</td>\n",
       "      <td>14.153846</td>\n",
       "      <td>3</td>\n",
       "      <td>0</td>\n",
       "      <td>0</td>\n",
       "      <td>...</td>\n",
       "      <td>0</td>\n",
       "      <td>0</td>\n",
       "      <td>0</td>\n",
       "      <td>14</td>\n",
       "      <td>0</td>\n",
       "      <td>0</td>\n",
       "      <td>0</td>\n",
       "      <td>0</td>\n",
       "      <td>77</td>\n",
       "      <td>0.728261</td>\n",
       "    </tr>\n",
       "    <tr>\n",
       "      <th>3</th>\n",
       "      <td>human</td>\n",
       "      <td>332556</td>\n",
       "      <td>American Sniper, the Clint Eastwood movie abou...</td>\n",
       "      <td>924</td>\n",
       "      <td>9</td>\n",
       "      <td>161</td>\n",
       "      <td>17.888889</td>\n",
       "      <td>0</td>\n",
       "      <td>0</td>\n",
       "      <td>0</td>\n",
       "      <td>...</td>\n",
       "      <td>0</td>\n",
       "      <td>0</td>\n",
       "      <td>0</td>\n",
       "      <td>0</td>\n",
       "      <td>0</td>\n",
       "      <td>0</td>\n",
       "      <td>0</td>\n",
       "      <td>0</td>\n",
       "      <td>22</td>\n",
       "      <td>0.720497</td>\n",
       "    </tr>\n",
       "    <tr>\n",
       "      <th>4</th>\n",
       "      <td>human</td>\n",
       "      <td>999435</td>\n",
       "      <td>eating them.'' His jaw was clenched so tight t...</td>\n",
       "      <td>992</td>\n",
       "      <td>12</td>\n",
       "      <td>185</td>\n",
       "      <td>15.416667</td>\n",
       "      <td>0</td>\n",
       "      <td>0</td>\n",
       "      <td>0</td>\n",
       "      <td>...</td>\n",
       "      <td>0</td>\n",
       "      <td>0</td>\n",
       "      <td>0</td>\n",
       "      <td>6</td>\n",
       "      <td>0</td>\n",
       "      <td>0</td>\n",
       "      <td>0</td>\n",
       "      <td>0</td>\n",
       "      <td>36</td>\n",
       "      <td>0.718919</td>\n",
       "    </tr>\n",
       "  </tbody>\n",
       "</table>\n",
       "<p>5 rows × 41 columns</p>\n",
       "</div>"
      ],
      "text/plain": [
       "  source      id                                               text  \\\n",
       "0  human  255674  From Trailville\\n\\nUpper Des Plaines River Can...   \n",
       "1  human   72144  Coca-Cola Company’s Performance Measurement Es...   \n",
       "2  human  829552  I can't stop it, you won't like it, you should...   \n",
       "3  human  332556  American Sniper, the Clint Eastwood movie abou...   \n",
       "4  human  999435  eating them.'' His jaw was clenched so tight t...   \n",
       "\n",
       "   text_length  sentence_count  word_count  avg_words_per_sentence  count_!  \\\n",
       "0         4708              38         782               20.578947        0   \n",
       "1         2105              20         318               15.900000        0   \n",
       "2         1000              13         184               14.153846        3   \n",
       "3          924               9         161               17.888889        0   \n",
       "4          992              12         185               15.416667        0   \n",
       "\n",
       "   count_\"  count_#  ...  count_]  count_^  count__  count_`  count_{  \\\n",
       "0        2        0  ...        0        0        0        0        0   \n",
       "1        0        0  ...        0        0        0        0        0   \n",
       "2        0        0  ...        0        0        0       14        0   \n",
       "3        0        0  ...        0        0        0        0        0   \n",
       "4        0        0  ...        0        0        0        6        0   \n",
       "\n",
       "   count_|  count_}  count_~  punct_total  unique_ratio  \n",
       "0        0        0        0          121      0.466752  \n",
       "1        0        0        0           41      0.591195  \n",
       "2        0        0        0           77      0.728261  \n",
       "3        0        0        0           22      0.720497  \n",
       "4        0        0        0           36      0.718919  \n",
       "\n",
       "[5 rows x 41 columns]"
      ]
     },
     "execution_count": 34,
     "metadata": {},
     "output_type": "execute_result"
    }
   ],
   "source": [
    "balanced_df[\"unique_ratio\"] = balanced_df[\"text\"].apply(lambda x: len(set(x.split())) / len(x.split()) if len(x.split()) > 0 else 0)\n",
    "balanced_df.head()"
   ]
  },
  {
   "cell_type": "code",
   "execution_count": 35,
   "id": "ab3bb78a",
   "metadata": {},
   "outputs": [
    {
     "name": "stdout",
     "output_type": "stream",
     "text": [
      "source\n",
      "ai       0.595630\n",
      "human    0.650091\n",
      "Name: unique_ratio, dtype: float64\n"
     ]
    }
   ],
   "source": [
    "avg_unique_ratio = balanced_df.groupby(\"source\")[\"unique_ratio\"].mean()\n",
    "print(avg_unique_ratio)"
   ]
  },
  {
   "cell_type": "code",
   "execution_count": 36,
   "id": "f6fab56c",
   "metadata": {},
   "outputs": [
    {
     "data": {
      "text/plain": [
       "<Axes: xlabel='source', ylabel='unique_ratio'>"
      ]
     },
     "execution_count": 36,
     "metadata": {},
     "output_type": "execute_result"
    },
    {
     "data": {
      "image/png": "[encoded data removed]",
      "text/plain": [
       "<Figure size 640x480 with 1 Axes>"
      ]
     },
     "metadata": {},
     "output_type": "display_data"
    }
   ],
   "source": [
    "sns.barplot(data=avg_unique_ratio)"
   ]
  }
 ],
 "metadata": {
  "kernelspec": {
   "display_name": "base",
   "language": "python",
   "name": "python3"
  },
  "language_info": {
   "codemirror_mode": {
    "name": "ipython",
    "version": 3
   },
   "file_extension": ".py",
   "mimetype": "text/x-python",
   "name": "python",
   "nbconvert_exporter": "python",
   "pygments_lexer": "ipython3",
   "version": "3.12.7"
  }
 },
 "nbformat": 4,
 "nbformat_minor": 5
}
